{
 "cells": [
  {
   "cell_type": "code",
   "execution_count": 1,
   "metadata": {},
   "outputs": [],
   "source": [
    "import pandas as pd"
   ]
  },
  {
   "cell_type": "code",
   "execution_count": 8,
   "metadata": {},
   "outputs": [
    {
     "data": {
      "text/html": [
       "<div>\n",
       "<style scoped>\n",
       "    .dataframe tbody tr th:only-of-type {\n",
       "        vertical-align: middle;\n",
       "    }\n",
       "\n",
       "    .dataframe tbody tr th {\n",
       "        vertical-align: top;\n",
       "    }\n",
       "\n",
       "    .dataframe thead th {\n",
       "        text-align: right;\n",
       "    }\n",
       "</style>\n",
       "<table border=\"1\" class=\"dataframe\">\n",
       "  <thead>\n",
       "    <tr style=\"text-align: right;\">\n",
       "      <th></th>\n",
       "      <th>url</th>\n",
       "      <th>page_content</th>\n",
       "      <th>about</th>\n",
       "      <th>contact</th>\n",
       "      <th>error</th>\n",
       "    </tr>\n",
       "  </thead>\n",
       "  <tbody>\n",
       "    <tr>\n",
       "      <th>0</th>\n",
       "      <td>http://topnotchroofing.com.au</td>\n",
       "      <td>NaN</td>\n",
       "      <td>NaN</td>\n",
       "      <td>NaN</td>\n",
       "      <td>HTTPConnectionPool(host='topnotchroofing.com.a...</td>\n",
       "    </tr>\n",
       "    <tr>\n",
       "      <th>1</th>\n",
       "      <td>https://www.cryoprep.com/</td>\n",
       "      <td>NaN</td>\n",
       "      <td>NaN</td>\n",
       "      <td>NaN</td>\n",
       "      <td>HTTPSConnectionPool(host='www.cryoprep.com', p...</td>\n",
       "    </tr>\n",
       "    <tr>\n",
       "      <th>2</th>\n",
       "      <td>https://www.vitachiropractic.com.au/</td>\n",
       "      <td>Vita Chiropractic - Chiropractor Services Chir...</td>\n",
       "      <td>NaN</td>\n",
       "      <td>Service Chiro Newstead Sacro Occipital Technic...</td>\n",
       "      <td>404 Client Error: Not Found for url: https://w...</td>\n",
       "    </tr>\n",
       "    <tr>\n",
       "      <th>3</th>\n",
       "      <td>https://will-build-builder-carpenter.business....</td>\n",
       "      <td>NaN</td>\n",
       "      <td>NaN</td>\n",
       "      <td>NaN</td>\n",
       "      <td>404 Client Error: Not Found for url: https://w...</td>\n",
       "    </tr>\n",
       "    <tr>\n",
       "      <th>4</th>\n",
       "      <td>https://e1poolcertifier.com/</td>\n",
       "      <td>Pool Certifier Sydney | Pool Inspections and C...</td>\n",
       "      <td>NaN</td>\n",
       "      <td>Contact, E1 Pool Certifier, Sutherland shire |...</td>\n",
       "      <td>404 Client Error: Not Found for url: https://e...</td>\n",
       "    </tr>\n",
       "  </tbody>\n",
       "</table>\n",
       "</div>"
      ],
      "text/plain": [
       "                                                 url  \\\n",
       "0                      http://topnotchroofing.com.au   \n",
       "1                          https://www.cryoprep.com/   \n",
       "2               https://www.vitachiropractic.com.au/   \n",
       "3  https://will-build-builder-carpenter.business....   \n",
       "4                       https://e1poolcertifier.com/   \n",
       "\n",
       "                                        page_content about  \\\n",
       "0                                                NaN   NaN   \n",
       "1                                                NaN   NaN   \n",
       "2  Vita Chiropractic - Chiropractor Services Chir...   NaN   \n",
       "3                                                NaN   NaN   \n",
       "4  Pool Certifier Sydney | Pool Inspections and C...   NaN   \n",
       "\n",
       "                                             contact  \\\n",
       "0                                                NaN   \n",
       "1                                                NaN   \n",
       "2  Service Chiro Newstead Sacro Occipital Technic...   \n",
       "3                                                NaN   \n",
       "4  Contact, E1 Pool Certifier, Sutherland shire |...   \n",
       "\n",
       "                                               error  \n",
       "0  HTTPConnectionPool(host='topnotchroofing.com.a...  \n",
       "1  HTTPSConnectionPool(host='www.cryoprep.com', p...  \n",
       "2  404 Client Error: Not Found for url: https://w...  \n",
       "3  404 Client Error: Not Found for url: https://w...  \n",
       "4  404 Client Error: Not Found for url: https://e...  "
      ]
     },
     "execution_count": 8,
     "metadata": {},
     "output_type": "execute_result"
    }
   ],
   "source": [
    "df = pd.read_csv('/Users/aphiwutjanphet/Documents/internship/Business Local/github/scrapingbusinesslocal/combined/output/scraped_content_20240829_122308.csv')\n",
    "df.head()"
   ]
  },
  {
   "cell_type": "code",
   "execution_count": 9,
   "metadata": {},
   "outputs": [
    {
     "data": {
      "text/plain": [
       "url              0\n",
       "page_content    23\n",
       "about           72\n",
       "contact         63\n",
       "error           20\n",
       "dtype: int64"
      ]
     },
     "execution_count": 9,
     "metadata": {},
     "output_type": "execute_result"
    }
   ],
   "source": [
    "df.isna().sum()"
   ]
  },
  {
   "cell_type": "code",
   "execution_count": 10,
   "metadata": {},
   "outputs": [],
   "source": [
    "df[df['page_content'].isna() | df['about'].isna() | df['contact'].isna()].fillna('n/a').to_csv('nan.csv', index=False)\n"
   ]
  },
  {
   "cell_type": "code",
   "execution_count": null,
   "metadata": {},
   "outputs": [],
   "source": []
  },
  {
   "cell_type": "code",
   "execution_count": null,
   "metadata": {},
   "outputs": [],
   "source": []
  }
 ],
 "metadata": {
  "interpreter": {
   "hash": "124242b593139c87d71f817c5c232daec37621c7dbacc3eba6c66c27e948e3ba"
  },
  "kernelspec": {
   "display_name": "Python 3.8.19 ('businesslocal')",
   "language": "python",
   "name": "python3"
  },
  "language_info": {
   "codemirror_mode": {
    "name": "ipython",
    "version": 3
   },
   "file_extension": ".py",
   "mimetype": "text/x-python",
   "name": "python",
   "nbconvert_exporter": "python",
   "pygments_lexer": "ipython3",
   "version": "3.8.19"
  },
  "orig_nbformat": 4
 },
 "nbformat": 4,
 "nbformat_minor": 2
}
